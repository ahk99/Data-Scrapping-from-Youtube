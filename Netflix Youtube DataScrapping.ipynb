{
 "cells": [
  {
   "cell_type": "code",
   "execution_count": null,
   "id": "d92aec20",
   "metadata": {},
   "outputs": [],
   "source": [
    "from selenium import webdriver\n",
    "from selenium.webdriver.common.by import By\n",
    "from selenium.webdriver.common.keys import Keys\n",
    "from selenium.webdriver.chrome.service import Service\n",
    "from webdriver_manager.chrome import ChromeDriverManager\n",
    "\n",
    "import pandas as pd\n",
    "import time\n",
    "\n",
    "\n",
    "driver=webdriver.Chrome(service=Service(ChromeDriverManager().install()))\n",
    "url=\"https://www.youtube.com/@Netflix/videos\"\n",
    "driver.get(url)\n",
    "driver.maximize_window()\n",
    "\n",
    "elements=[]\n",
    "time.sleep(5)\n",
    "popular=driver.find_element(By.XPATH,'//*[@id=\"chips\"]/yt-chip-cloud-chip-renderer[2]').click()\n",
    "last_height=driver.execute_script(\"return document.documentElement.scrollHeight\")\n",
    "Popular_movies=[]\n",
    "itemTargetCount=500\n",
    "\n",
    "while(itemTargetCount>len(elements)):\n",
    "    driver.execute_script(\"window.scrollTo(0,document.documentElement.scrollHeight);\")\n",
    "    time.sleep(2)\n",
    "    new_height=driver.execute_script(\"return document.documentElement.scrollHeight\")\n",
    "    \n",
    "    if new_height==last_height:\n",
    "        break\n",
    "    last_height=new_height\n",
    "    vdos=driver.find_elements(By.ID,'dismissible')\n",
    "\n",
    "    \n",
    "    for vdo in vdos:\n",
    "        title=vdo.find_element(By.ID,'video-title').text\n",
    "        views=vdo.find_element(By.CSS_SELECTOR,' #metadata-line > span:nth-child(3)').text\n",
    "        date=vdo.find_element(By.CSS_SELECTOR,' #metadata-line > span:nth-child(4)').text \n",
    "        Popular_movies.append({\n",
    "                         \"Title\":title,\n",
    "                         \"Views\":views,\n",
    "                         \"Uploaded On\":date})\n",
    "        print(\"Progress: \",str(len(Popular_movies)))\n",
    "    elements=Popular_movies\n",
    "\n",
    "\n",
    "df=pd.DataFrame(Popular_movies)\n",
    "\n",
    "df\n",
    "\n"
   ]
  }
 ],
 "metadata": {
  "kernelspec": {
   "display_name": "Python 3 (ipykernel)",
   "language": "python",
   "name": "python3"
  },
  "language_info": {
   "codemirror_mode": {
    "name": "ipython",
    "version": 3
   },
   "file_extension": ".py",
   "mimetype": "text/x-python",
   "name": "python",
   "nbconvert_exporter": "python",
   "pygments_lexer": "ipython3",
   "version": "3.9.12"
  }
 },
 "nbformat": 4,
 "nbformat_minor": 5
}
